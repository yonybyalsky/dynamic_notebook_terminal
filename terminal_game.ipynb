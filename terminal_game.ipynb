{
 "cells": [
  {
   "cell_type": "code",
   "execution_count": 29,
   "id": "b9f43479",
   "metadata": {},
   "outputs": [],
   "source": [
    "import matplotlib.pyplot as plt\n",
    "import numpy as np\n",
    "import time \n",
    "from IPython.display  import clear_output\n",
    "import keyboard\n",
    "from func_timeout import func_timeout, FunctionTimedOut"
   ]
  },
  {
   "cell_type": "code",
   "execution_count": 40,
   "id": "c924230b",
   "metadata": {},
   "outputs": [
    {
     "data": {
      "image/png": "[encoded data removed]",
      "text/plain": [
       "<Figure size 640x480 with 1 Axes>"
      ]
     },
     "metadata": {},
     "output_type": "display_data"
    }
   ],
   "source": [
    "np.set_printoptions(threshold=np.inf)\n",
    "img = np.zeros((100, 100))\n",
    "x, y = 50, 50\n",
    "prev_press = \"n\"\n",
    "while True:\n",
    "    try:\n",
    "        key_press = func_timeout(1, keyboard.read_hotkey, args=[False])\n",
    "        prev_press = key_press\n",
    "        time.sleep(0.9)\n",
    "    except FunctionTimedOut:\n",
    "        key_press = prev_press\n",
    "    prev_x, prev_y = x, y\n",
    "    if key_press == \"a\":\n",
    "        x -= 1\n",
    "    elif key_press == \"d\":\n",
    "        x += 1\n",
    "    elif key_press == \"w\":\n",
    "        y -= 1\n",
    "    elif key_press == \"s\":\n",
    "        y += 1\n",
    "    elif key_press == \"n\":\n",
    "        pass\n",
    "    elif key_press == \"b\":\n",
    "        break\n",
    "    img[y, x] = 1\n",
    "    img[prev_y, prev_x] = 0\n",
    "    clear_output(wait=True)\n",
    "    plt.imshow(img)\n",
    "    plt.show()  "
   ]
  },
  {
   "cell_type": "code",
   "execution_count": null,
   "id": "5f880fd3",
   "metadata": {},
   "outputs": [],
   "source": [
    "dssasdsdwdddwaasddwassasdsbdwddwawdwbb"
   ]
  }
 ],
 "metadata": {
  "kernelspec": {
   "display_name": "Python 3 (ipykernel)",
   "language": "python",
   "name": "python3"
  },
  "language_info": {
   "codemirror_mode": {
    "name": "ipython",
    "version": 3
   },
   "file_extension": ".py",
   "mimetype": "text/x-python",
   "name": "python",
   "nbconvert_exporter": "python",
   "pygments_lexer": "ipython3",
   "version": "3.11.4"
  }
 },
 "nbformat": 4,
 "nbformat_minor": 5
}
